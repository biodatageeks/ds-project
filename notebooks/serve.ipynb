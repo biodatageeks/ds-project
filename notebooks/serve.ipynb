{
 "cells": [
  {
   "cell_type": "markdown",
   "metadata": {},
   "source": [
    "## Zarządzanie i wdrażanie modeli ML\n",
    "Platforma ML Flow (https://www.mlflow.org/docs/latest/index.html) umożliwia całościowe zarządzanie cyklem życia modeli.\n",
    "* logowanie eksperymentów, wartości parametrów modeli i osiąganych przez nie wyników\n",
    "* serializowanie modeli (na potrzeby współdzielenia modelu, przeniesienia na inne środowisko lub serwowania)\n",
    "* wersjonowanie modelu, adnotowanie i przechowywanie w Rejestrze\n",
    "\n",
    "### Klasyfikacja jako serwis REST\n",
    "\n",
    "Należy uruchomic proces udostępniający interfejs REST do otrzymowania danych do klasyfikacji.\n",
    "Komendę należy uruchomić w terminalu.\n",
    "\n",
    "```bash\n",
    "unset PYSPARK_SUBMIT_ARGS && \\\n",
    "source /opt/conda/etc/profile.d/conda.sh && \\\n",
    "conda activate $HOME/venv/$JUPYTER_KERNEL_NAME && \\\n",
    "mlflow models serve -m gs://bdg-lab-{USER}/mlflow/artifacts/6/c93fadbf518048f48ec9c433b7ebb3f8/artifacts/model -p 9090  --no-conda\n",
    "```"
   ]
  },
  {
   "cell_type": "code",
   "execution_count": null,
   "metadata": {},
   "outputs": [],
   "source": [
    "# szykujemy wiadomość z danymi do klasyfikacji\n",
    "\n",
    "url = \"http://localhost:9090/invocations\"   # adres uslugi ktora wystawia interfejs REST\n",
    "headers = {'Content-Type': 'application/json; format=pandas-split'}  # naglowki wiadomosci\n",
    "\n",
    "input_data = '{\"columns\":[\"OpSys\", \"EdLevel\", \"MainBranch\" , \"Country\", \"JobSeek\", \"YearsCode\", \"ConvertedComp\"], \\\n",
    "    \"data\":[[ \\\n",
    "    \"MacOS\",\\\n",
    "    \"Master’s degree (M.A., M.S., M.Eng., MBA, etc.)\",\\\n",
    "    \"I am a developer by profession\",\"United Kingdom\",\\\n",
    "    \"I am not interested in new job opportunities\",\\\n",
    "    \"10\", \\\n",
    "    \"6000\"]]}'\\\n",
    "    .encode('utf-8')\n",
    "\n",
    "import requests \n",
    "r = requests.post(url, data=input_data, headers=headers) # wyslanie wiadomosci i odebranie wyniku\n",
    "\n",
    "r.text # wypisanie treści wyniku"
   ]
  },
  {
   "cell_type": "markdown",
   "metadata": {},
   "source": [
    "### Klasyfikacja jako funkcja pyspark\n"
   ]
  },
  {
   "cell_type": "code",
   "execution_count": null,
   "metadata": {},
   "outputs": [],
   "source": [
    "from pyspark.sql import SparkSession\n",
    "spark = SparkSession \\\n",
    ".builder \\\n",
    ".config('spark.driver.memory','1g') \\\n",
    ".config('spark.executor.memory', '2g') \\\n",
    ".getOrCreate()"
   ]
  },
  {
   "cell_type": "code",
   "execution_count": null,
   "metadata": {},
   "outputs": [],
   "source": [
    "import mlflow.pyfunc\n",
    "from pyspark.sql.functions import struct\n",
    "\n",
    "import os\n",
    "user_name = os.environ.get('USER')\n",
    "\n",
    "# zdefiniowanie funkcji \n",
    "registry_uri=f\"gs://bdg-lab-{user_name}/mlflow/artifacts/6/c93fadbf518048f48ec9c433b7ebb3f8/artifacts/model\"\n",
    "predict_udf = mlflow.pyfunc.spark_udf(spark, model_uri=registry_uri)"
   ]
  },
  {
   "cell_type": "code",
   "execution_count": null,
   "metadata": {},
   "outputs": [],
   "source": [
    "spark.stop()"
   ]
  },
  {
   "cell_type": "code",
   "execution_count": null,
   "metadata": {},
   "outputs": [],
   "source": [
    "# szykujemy nowe dane testowe do klasyfikacji\n",
    "new_data = spark.createDataFrame(\n",
    "    [('MacOS', 'Master’s degree (M.A., M.S., M.Eng., MBA, etc.)', 'I am a developer by profession', \"United Kingdom\", \"I am not interested in new job opportunities\", \"10\", \"6000\"), \n",
    "     ('MacOS', 'Master’s degree (M.A., M.S., M.Eng., MBA, etc.)', 'I am a developer by profession', \"Poland\", \"I am not interested in new job opportunities\", \"10\", \"6000\"), \n",
    "     ('Windows', 'Master’s degree (M.A., M.S., M.Eng., MBA, etc.)', 'I am a developer by profession', \"India\", \"I am not interested in new job opportunities\", \"10\", \"5000\")],\n",
    "    schema='OpSys string, EdLevel string, MainBranch string, Country string, JobSeek string, YearsCode string, ConvertedComp string')"
   ]
  },
  {
   "cell_type": "code",
   "execution_count": null,
   "metadata": {},
   "outputs": [],
   "source": [
    "# tworzymy DF ktory zawiera nową kolumnę predict, ktora zawiera wynik dzialania funkcji predict_udf\n",
    "predicted_df = new_data\\\n",
    "    .withColumn(\"prediction\", predict_udf(struct('OpSys', 'EdLevel', 'MainBranch' , 'Country', 'JobSeek', 'YearsCode', 'ConvertedComp'))) \\\n",
    "    .select ('OpSys', 'EdLevel', 'MainBranch' , 'Country', 'JobSeek', 'YearsCode', 'prediction')\n",
    "predicted_df.toPandas()"
   ]
  }
 ],
 "metadata": {
  "kernelspec": {
   "display_name": "Kedro (datascience)",
   "language": "python",
   "name": "ds-venv"
  },
  "language_info": {
   "codemirror_mode": {
    "name": "ipython",
    "version": 3
   },
   "file_extension": ".py",
   "mimetype": "text/x-python",
   "name": "python",
   "nbconvert_exporter": "python",
   "pygments_lexer": "ipython3",
   "version": "3.7.10"
  }
 },
 "nbformat": 4,
 "nbformat_minor": 4
}
